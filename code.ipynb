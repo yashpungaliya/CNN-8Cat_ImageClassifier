{
 "cells": [
  {
   "cell_type": "code",
   "execution_count": 1,
   "metadata": {},
   "outputs": [
    {
     "name": "stderr",
     "output_type": "stream",
     "text": [
      "Using TensorFlow backend.\n"
     ]
    }
   ],
   "source": [
    "import numpy as np\n",
    "from keras import layers\n",
    "from keras.layers import Input, Dense, Activation, ZeroPadding2D, BatchNormalization, Flatten, Conv2D\n",
    "from keras.layers import AveragePooling2D, MaxPooling2D, Dropout, GlobalMaxPooling2D, GlobalAveragePooling2D\n",
    "from keras.models import Model\n",
    "from keras.preprocessing import image\n",
    "from keras.utils import layer_utils\n",
    "from keras.utils.data_utils import get_file\n",
    "from keras.applications.imagenet_utils import preprocess_input\n",
    "from keras.utils.vis_utils import model_to_dot\n",
    "from keras.utils import plot_model\n",
    "import os,math,random,cv2\n",
    "import keras.backend as K\n",
    "K.set_image_data_format('channels_last')\n",
    "import matplotlib.pyplot as plt\n",
    "from matplotlib.pyplot import imshow\n",
    "\n",
    "%matplotlib inline"
   ]
  },
  {
   "cell_type": "code",
   "execution_count": 2,
   "metadata": {},
   "outputs": [
    {
     "name": "stdout",
     "output_type": "stream",
     "text": [
      "0\n",
      "0\n",
      "0\n",
      "0\n",
      "0\n",
      "0\n",
      "0\n",
      "0\n"
     ]
    },
    {
     "data": {
      "text/plain": [
       "['bed', 'lamp', 'wardrobe', 'stool', 'shelf', 'chair', 'table', 'sofa']"
      ]
     },
     "execution_count": 2,
     "metadata": {},
     "output_type": "execute_result"
    }
   ],
   "source": [
    "def split_train_test():\n",
    "    categories=[f for f in os.listdir('data') if not f.startswith('.')]\n",
    "    for c in categories:\n",
    "        allImages=[f for f in os.listdir('data/'+c) if f.endswith('.jpg') and not f.startswith('.')]\n",
    "        totalImages=int(len(allImages))\n",
    "        train_size=int(math.ceil(totalImages*0.7))\n",
    "        test_size=totalImages-train_size\n",
    "        random.shuffle(allImages)\n",
    "        train_images=allImages[:train_size]\n",
    "        test_images=[item for item in allImages if item not in train_images]\n",
    "        if not os.path.exists('./data/'+c+'/train'):\n",
    "            os.makedirs('./data/'+c+'/train')\n",
    "        if not os.path.exists('./data/'+c+'/test'):\n",
    "            os.makedirs('./data/'+c+'/test')\n",
    "        print(len(train_images))\n",
    "        for i in train_images:\n",
    "            os.rename('./data/'+c+'/'+i,'./data/'+c+'/train'+'/'+i)\n",
    "        for i in test_images:\n",
    "            os.rename(\"./data/\"+c+'/'+i,\"./data/\"+c+'/test'+'/'+i)\n",
    "    return categories    \n",
    "\n",
    "split_train_test()           "
   ]
  },
  {
   "cell_type": "code",
   "execution_count": 3,
   "metadata": {},
   "outputs": [],
   "source": [
    "categories=[f for f in os.listdir('data') if not f.startswith('.')]"
   ]
  },
  {
   "cell_type": "code",
   "execution_count": 4,
   "metadata": {},
   "outputs": [],
   "source": [
    "def returnCategory(n):\n",
    "    return categories[n]\n",
    "def returnCatPos(x):\n",
    "    return categories.index(x)"
   ]
  },
  {
   "cell_type": "code",
   "execution_count": 5,
   "metadata": {},
   "outputs": [
    {
     "name": "stdout",
     "output_type": "stream",
     "text": [
      "bed\n",
      "lamp\n",
      "wardrobe\n",
      "stool\n",
      "shelf\n",
      "chair\n",
      "table\n",
      "sofa\n"
     ]
    }
   ],
   "source": [
    "def load_data():\n",
    "    X_train=[]\n",
    "    Y_train=[]\n",
    "    X_test=[]\n",
    "    Y_test=[]\n",
    "    for c in categories:\n",
    "        print(c)\n",
    "        train_folder='./data/'+c+'/train/'\n",
    "        test_folder='./data/'+c+'/test/'\n",
    "        for i in os.listdir(train_folder):            \n",
    "            my_image=cv2.imread(train_folder+i)\n",
    "            resized_image = cv2.resize(my_image, (64, 64)) \n",
    "            X_train.append((resized_image))\n",
    "            Y_train.append(returnCatPos(c))\n",
    "            \n",
    "        for i in os.listdir(test_folder):            \n",
    "            my_image=cv2.imread(test_folder+i)\n",
    "            resized_image = cv2.resize(my_image, (64, 64)) \n",
    "            X_test.append((resized_image))\n",
    "            Y_test.append(returnCatPos(c)) \n",
    "    X_train=np.asarray(X_train)\n",
    "    Y_train=np.asarray(Y_train)\n",
    "    X_test=np.asarray(X_test)\n",
    "    Y_test=np.asarray(Y_test)\n",
    "    return X_train,Y_train,X_test,Y_test\n",
    "X_train,Y_train,X_test,Y_test=load_data()"
   ]
  },
  {
   "cell_type": "code",
   "execution_count": null,
   "metadata": {},
   "outputs": [],
   "source": []
  },
  {
   "cell_type": "code",
   "execution_count": 6,
   "metadata": {},
   "outputs": [
    {
     "name": "stdout",
     "output_type": "stream",
     "text": [
      "Number of training samples = 2687\n",
      "Image dimension = (64, 64, 3)\n"
     ]
    }
   ],
   "source": [
    "print(\"Number of training samples =\",X_train.shape[0])\n",
    "print(\"Image dimension =\",X_train.shape[1:])"
   ]
  },
  {
   "cell_type": "code",
   "execution_count": 7,
   "metadata": {},
   "outputs": [
    {
     "name": "stdout",
     "output_type": "stream",
     "text": [
      "[[[255 255 255]\n",
      "  [255 255 255]\n",
      "  [255 255 255]\n",
      "  ...\n",
      "  [255 255 255]\n",
      "  [255 255 255]\n",
      "  [255 255 255]]\n",
      "\n",
      " [[255 255 255]\n",
      "  [255 255 255]\n",
      "  [255 255 255]\n",
      "  ...\n",
      "  [255 255 255]\n",
      "  [255 255 255]\n",
      "  [255 255 255]]\n",
      "\n",
      " [[255 255 255]\n",
      "  [255 255 255]\n",
      "  [255 255 255]\n",
      "  ...\n",
      "  [255 255 255]\n",
      "  [255 255 255]\n",
      "  [255 255 255]]\n",
      "\n",
      " ...\n",
      "\n",
      " [[255 255 255]\n",
      "  [255 255 255]\n",
      "  [255 255 255]\n",
      "  ...\n",
      "  [255 255 255]\n",
      "  [255 255 255]\n",
      "  [255 255 255]]\n",
      "\n",
      " [[255 255 255]\n",
      "  [255 255 255]\n",
      "  [255 255 255]\n",
      "  ...\n",
      "  [255 255 255]\n",
      "  [255 255 255]\n",
      "  [255 255 255]]\n",
      "\n",
      " [[255 255 255]\n",
      "  [255 255 255]\n",
      "  [255 255 255]\n",
      "  ...\n",
      "  [255 255 255]\n",
      "  [255 255 255]\n",
      "  [255 255 255]]] 0\n"
     ]
    }
   ],
   "source": []
  },
  {
   "cell_type": "code",
   "execution_count": null,
   "metadata": {},
   "outputs": [],
   "source": []
  }
 ],
 "metadata": {
  "kernelspec": {
   "display_name": "Python 3",
   "language": "python",
   "name": "python3"
  },
  "language_info": {
   "codemirror_mode": {
    "name": "ipython",
    "version": 3
   },
   "file_extension": ".py",
   "mimetype": "text/x-python",
   "name": "python",
   "nbconvert_exporter": "python",
   "pygments_lexer": "ipython3",
   "version": "3.5.2"
  }
 },
 "nbformat": 4,
 "nbformat_minor": 2
}
