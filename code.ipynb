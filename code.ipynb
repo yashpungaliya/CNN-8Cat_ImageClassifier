{
 "cells": [
  {
   "cell_type": "code",
   "execution_count": 32,
   "metadata": {},
   "outputs": [],
   "source": [
    "import numpy as np\n",
    "from keras import layers\n",
    "from keras.layers import Input, Dense, Activation, ZeroPadding2D, BatchNormalization, Flatten, Conv2D\n",
    "from keras.layers import AveragePooling2D, MaxPooling2D, Dropout, GlobalMaxPooling2D, GlobalAveragePooling2D\n",
    "from keras.models import Model\n",
    "from keras.preprocessing import image\n",
    "from keras.utils import layer_utils\n",
    "from keras.utils.data_utils import get_file\n",
    "from keras.applications.imagenet_utils import preprocess_input\n",
    "from keras.utils.vis_utils import model_to_dot\n",
    "from keras.utils import plot_model\n",
    "import os,math,random\n",
    "import keras.backend as K\n",
    "K.set_image_data_format('channels_last')\n",
    "import matplotlib.pyplot as plt\n",
    "from matplotlib.pyplot import imshow\n",
    "\n",
    "%matplotlib inline"
   ]
  },
  {
   "cell_type": "code",
   "execution_count": 73,
   "metadata": {},
   "outputs": [],
   "source": [
    "def split_train_test():\n",
    "    categories=[f for f in os.listdir('data') if not f.startswith('.')]\n",
    "    for c in categories:\n",
    "        allImages=[f for f in os.listdir('data/'+c) if f.endswith('.jpg') and not f.startswith('.')]\n",
    "        totalImages=int(len(allImages))\n",
    "        train_size=int(math.ceil(totalImages*0.7))\n",
    "        test_size=totalImages-train_size\n",
    "        random.shuffle(allImages)\n",
    "        train_images=allImages[:train_size]\n",
    "        test_images=[item for item in allImages if item not in train_images]\n",
    "        if not os.path.exists('./data/'+c+'/train'):\n",
    "            os.makedirs('./data/'+c+'/train')\n",
    "        if not os.path.exists('./data/'+c+'/test'):\n",
    "            os.makedirs('./data/'+c+'/test')\n",
    "        print(len(train_images))\n",
    "        for i in train_images:\n",
    "            os.rename('./data/'+c+'/'+i,'./data/'+c+'/train'+'/'+i)\n",
    "        for i in test_images:\n",
    "            os.rename(\"./data/\"+c+'/'+i,\"./data/\"+c+'/test'+'/'+i)    "
   ]
  },
  {
   "cell_type": "code",
   "execution_count": 74,
   "metadata": {},
   "outputs": [
    {
     "data": {
      "text/plain": [
       "['bed', 'lamp', 'wardrobe', 'stool', 'shelf', 'chair', 'table', 'sofa']"
      ]
     },
     "execution_count": 74,
     "metadata": {},
     "output_type": "execute_result"
    }
   ],
   "source": [
    "categories"
   ]
  },
  {
   "cell_type": "code",
   "execution_count": null,
   "metadata": {},
   "outputs": [],
   "source": []
  }
 ],
 "metadata": {
  "kernelspec": {
   "display_name": "Python 3",
   "language": "python",
   "name": "python3"
  },
  "language_info": {
   "codemirror_mode": {
    "name": "ipython",
    "version": 3
   },
   "file_extension": ".py",
   "mimetype": "text/x-python",
   "name": "python",
   "nbconvert_exporter": "python",
   "pygments_lexer": "ipython3",
   "version": "3.5.2"
  }
 },
 "nbformat": 4,
 "nbformat_minor": 2
}
